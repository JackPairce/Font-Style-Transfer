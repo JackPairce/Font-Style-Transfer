{
 "cells": [
  {
   "cell_type": "code",
   "execution_count": 1,
   "metadata": {},
   "outputs": [],
   "source": [
    "import torch\n",
    "from scripts.NN import LetterRecognitionModel\n",
    "\n",
    "# from scripts.training import train_model\n",
    "from scripts.dataset import LetterDataset\n",
    "import torch.optim as optim\n",
    "from torch.utils.data import DataLoader\n",
    "import pandas as pd\n",
    "import torch.nn as nn\n",
    "import torch\n",
    "from tqdm.auto import tqdm"
   ]
  },
  {
   "cell_type": "code",
   "execution_count": 32,
   "metadata": {},
   "outputs": [
    {
     "data": {
      "application/vnd.jupyter.widget-view+json": {
       "model_id": "753834fa57314d24b130e4b7121632c3",
       "version_major": 2,
       "version_minor": 0
      },
      "text/plain": [
       "Training:   0%|          | 0/4850 [00:00<?, ?it/s]"
      ]
     },
     "metadata": {},
     "output_type": "display_data"
    }
   ],
   "source": [
    "LR = 3e-4\n",
    "BATCH_SIZE = 32\n",
    "NUM_EPACHS = 50\n",
    "\n",
    "# Initialize dataset\n",
    "dataset = pd.read_pickle(\"data/multi_shape_dataset.pkl\")  # .to_dict(\"records\")\n",
    "# check if all images are the same shape\n",
    "shapes = dataset.image.apply(lambda x: x.shape)\n",
    "assert len(set(shapes)) == 1, \"All images must be the same shape\"\n",
    "\n",
    "dataset = LetterDataset(dataset.to_dict(\"records\"))\n",
    "\n",
    "# Initialize data loader\n",
    "train_loader = DataLoader(dataset, batch_size=BATCH_SIZE, shuffle=True)\n",
    "\n",
    "# Initialize model\n",
    "model = LetterRecognitionModel(dataset.total_letters())\n",
    "\n",
    "# load weights\n",
    "model.load_state_dict(torch.load(\"letter_recognition_model.pt\", weights_only=True))\n",
    "\n",
    "# Initialize optimizer\n",
    "optimizer = optim.Adam(model.parameters(), lr=LR)\n",
    "criterion_letter = nn.MSELoss()\n",
    "\n",
    "# Train model\n",
    "pbar = tqdm(total=NUM_EPACHS * len(train_loader), desc=\"Training\")\n",
    "for epoch in range(NUM_EPACHS):\n",
    "    total_loss = []\n",
    "    for image, letter in train_loader:\n",
    "        optimizer.zero_grad()\n",
    "        predicted_letter = model(image)\n",
    "        loss = criterion_letter(predicted_letter, letter)\n",
    "        loss.backward()\n",
    "        optimizer.step()\n",
    "        pbar.update(1)\n",
    "        total_loss.append(loss.item())\n",
    "        pbar.set_postfix(\n",
    "            {\n",
    "                \"Epoch\": f\"{epoch+1}/{NUM_EPACHS}\",\n",
    "                \"Total Loss\": f\"{(sum(total_loss)/len(total_loss)):.4f}\",\n",
    "                \"Loss\": f\"{loss.item():.4f}\",\n",
    "            }\n",
    "        )\n",
    "    # if all([loss < 1e-5 for loss in total_loss]):\n",
    "    #     break\n",
    "pbar.close()\n",
    "torch.save(model.state_dict(), \"letter_recognition_model.pt\")"
   ]
  },
  {
   "cell_type": "code",
   "execution_count": 3,
   "metadata": {},
   "outputs": [
    {
     "data": {
      "text/plain": [
       "<All keys matched successfully>"
      ]
     },
     "execution_count": 3,
     "metadata": {},
     "output_type": "execute_result"
    }
   ],
   "source": [
    "model.load_state_dict(torch.load(\"letter_recognition_model.pt\", weights_only=True))"
   ]
  },
  {
   "cell_type": "code",
   "execution_count": 33,
   "metadata": {},
   "outputs": [
    {
     "name": "stdout",
     "output_type": "stream",
     "text": [
      "Accuracy: 0.9767741935483871\n"
     ]
    }
   ],
   "source": [
    "# import random\n",
    "# import matplotlib.pyplot as plt\n",
    "import numpy as np\n",
    "\n",
    "_dataset = pd.read_pickle(\"data/multi_shape_dataset.pkl\").to_dict(\"records\")\n",
    "\n",
    "\n",
    "def predict_letter(model, image):\n",
    "    image = torch.tensor(image).unsqueeze(0).unsqueeze(0).float()\n",
    "    letter = model(image)\n",
    "    letter = letter.argmax().item()\n",
    "    # font = font.argmax().item()\n",
    "    return letter\n",
    "\n",
    "\n",
    "idx_to_letter = {l: i for i, l in dataset.letter_to_idx.items()}\n",
    "\n",
    "\n",
    "def predict_random_letter(model, idx):\n",
    "    model.eval()\n",
    "    model = model.cpu()\n",
    "    sample = _dataset[idx]\n",
    "    image: np.ndarray = sample[\"image\"]\n",
    "    letter = sample[\"letter\"]\n",
    "    # font = sample[\"font\"]\n",
    "    predicted_letter = predict_letter(model, image)\n",
    "    return idx_to_letter[predicted_letter] == letter  # or predicted_font == font\n",
    "    # print(f\"[{predicted}] => Predicted: {idx_to_letter[predicted]}\")\n",
    "    # print(f\"True: {letter}\")\n",
    "\n",
    "\n",
    "results = [predict_random_letter(model, i) for i in range(len(_dataset))]\n",
    "print(f\"Accuracy: {sum(results) / len(results)}\")"
   ]
  },
  {
   "cell_type": "code",
   "execution_count": 34,
   "metadata": {},
   "outputs": [
    {
     "name": "stdout",
     "output_type": "stream",
     "text": [
      "Model saved\n"
     ]
    }
   ],
   "source": [
    "if sum(results) / len(results) > 0.95:\n",
    "    # Save model\n",
    "    torch.save(model.state_dict(), f\"best_letter_recognition_model.pt\")\n",
    "    print(\"Model saved\")"
   ]
  }
 ],
 "metadata": {
  "kernelspec": {
   "display_name": "Python 3 (ipykernel)",
   "language": "python",
   "name": "python3"
  },
  "language_info": {
   "codemirror_mode": {
    "name": "ipython",
    "version": 3
   },
   "file_extension": ".py",
   "mimetype": "text/x-python",
   "name": "python",
   "nbconvert_exporter": "python",
   "pygments_lexer": "ipython3",
   "version": "3.11.2"
  }
 },
 "nbformat": 4,
 "nbformat_minor": 2
}
